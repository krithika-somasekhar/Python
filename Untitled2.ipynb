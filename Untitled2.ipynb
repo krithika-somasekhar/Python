{
 "cells": [
  {
   "cell_type": "markdown",
   "metadata": {},
   "source": [
    "### Day Objective\n",
    "\n",
    "- Python data structutres\n",
    "       * Lists\n",
    "       *Tuples\n",
    "       *Dictionaries\n",
    "       \n",
    "- Basic program sets on data structures\n",
    "- Advanced problem set\n",
    "- Contact application(dictionary object)\n",
    "\n",
    "# Data structures:\n",
    "\n",
    "- To store, search and sort the data"
   ]
  },
  {
   "cell_type": "markdown",
   "metadata": {},
   "source": [
    "### Python Data Stuctures\n",
    "\n",
    "#### Lists\n",
    "- Its one of the common datastructures supported by python , the list items are separated by comma operator and enclosed in square brackets\n",
    "#### Examples:\n",
    "     - list1 = [1,0,2,8]\n",
    "     - list2= [\"gitam\",10,12,15.5,\"hyderabad\"]"
   ]
  },
  {
   "cell_type": "code",
   "execution_count": 3,
   "metadata": {},
   "outputs": [
    {
     "name": "stdout",
     "output_type": "stream",
     "text": [
      "[1, 8, 16, 9, 2]\n",
      "1\n",
      "[8, 16, 9]\n",
      "[8, 16, 9, 2]\n",
      "[9, 2]\n",
      "9\n"
     ]
    }
   ],
   "source": [
    "lst = [1,8,16,9,2]\n",
    "print(lst)\n",
    "print(lst[0])\n",
    "print(lst[1:4])\n",
    "print(lst[1:])\n",
    "print(lst[-2:])\n",
    "print(lst[-2])"
   ]
  },
  {
   "cell_type": "code",
   "execution_count": 4,
   "metadata": {},
   "outputs": [
    {
     "name": "stdout",
     "output_type": "stream",
     "text": [
      "['Gitam', 'python', 1989, 2002]\n",
      "['Gitam', 'python', 2019, 2002]\n"
     ]
    }
   ],
   "source": [
    "# Update the list item values using index(direct referencing)\n",
    "li = [ \"Gitam\", \"python\",1989,2002]\n",
    "print(li)\n",
    "li[2]= 2019\n",
    "print(li)"
   ]
  },
  {
   "cell_type": "code",
   "execution_count": 5,
   "metadata": {},
   "outputs": [
    {
     "name": "stdout",
     "output_type": "stream",
     "text": [
      "['Gitam', 'python', 2019, 2002]\n",
      "['Gitam', 'python', 2002]\n"
     ]
    }
   ],
   "source": [
    " # Delete the specific item in the list\n",
    "print(li)\n",
    "del li[2]    \n",
    "print(li)"
   ]
  },
  {
   "cell_type": "code",
   "execution_count": 6,
   "metadata": {},
   "outputs": [
    {
     "name": "stdout",
     "output_type": "stream",
     "text": [
      "5\n",
      "[1, 8, 16, 9, 2, 1, 8, 16, 9, 2]\n",
      "5\n",
      "True\n",
      "False\n",
      "1 8 16 9 2 "
     ]
    }
   ],
   "source": [
    "# Basic List Operators\n",
    "lst1 = [1,9,6,18,2]\n",
    "print(len(lst1))\n",
    "print(lst * 2)\n",
    "print(len(lst1))\n",
    "print(9 in lst1)\n",
    "print(15 in lst1)\n",
    "# access the list items using iteration\n",
    "for x in range(len(lst1)):\n",
    "    print(lst[x],end=' ')"
   ]
  },
  {
   "cell_type": "code",
   "execution_count": 15,
   "metadata": {},
   "outputs": [
    {
     "name": "stdout",
     "output_type": "stream",
     "text": [
      "1\n",
      "18\n",
      "36\n",
      "7\n",
      "13\n"
     ]
    }
   ],
   "source": [
    "# function of the list\n",
    "lst1\n",
    "print(min(lst1))\n",
    "print(max(lst1))\n",
    "print(sum(lst1))\n",
    "print(sum(lst1)//len(lst1))\n",
    "print(sum(lst1[1::2])//len(lst1[1::2]))"
   ]
  },
  {
   "cell_type": "code",
   "execution_count": 16,
   "metadata": {},
   "outputs": [
    {
     "data": {
      "text/plain": [
       "[1, 6, 9, 18, 24, 123, 23, 45]"
      ]
     },
     "execution_count": 16,
     "metadata": {},
     "output_type": "execute_result"
    }
   ],
   "source": [
    "# Methods of list object\n",
    "lst1\n",
    "lst1.append(24) # Adding a new element at the end of the list\n",
    "lst1\n",
    "lst1.insert(2,56) # Adding an element at a particular index\n",
    "lst1\n",
    "lst1.count(18) # Return the value how many times the object repeated\n",
    "lst1.index(56)\n",
    "lst1.sort() # Its \n",
    "lst1\n",
    "lst1.pop() #Remove\n",
    "lst1 \n",
    "lst1.pop(1) # Remove an element from a particular index\n",
    "lst2 = [123, 23, 45]\n",
    "lst1.extend(lst2) # Merge the list2 into list1\n",
    "lst1"
   ]
  },
  {
   "cell_type": "code",
   "execution_count": 18,
   "metadata": {},
   "outputs": [
    {
     "data": {
      "text/plain": [
       "[1, 6, 9, 18, 24, 123, 23, 45]"
      ]
     },
     "execution_count": 18,
     "metadata": {},
     "output_type": "execute_result"
    }
   ],
   "source": [
    "lst1"
   ]
  },
  {
   "cell_type": "code",
   "execution_count": 17,
   "metadata": {},
   "outputs": [
    {
     "name": "stdout",
     "output_type": "stream",
     "text": [
      "[3, 2, 9]\n"
     ]
    }
   ],
   "source": [
    "li = [1,9,8,2,6,3]\n",
    "print(li[-1:0:-2])"
   ]
  },
  {
   "cell_type": "code",
   "execution_count": 19,
   "metadata": {},
   "outputs": [
    {
     "data": {
      "text/plain": [
       "18"
      ]
     },
     "execution_count": 19,
     "metadata": {},
     "output_type": "execute_result"
    }
   ],
   "source": [
    "# Function to find the second large item from the list\n",
    "# Input : [1,19,6,2,8,18,3]\n",
    "# output : 18\n",
    "def secondLarge(li):\n",
    "    li.sort()\n",
    "    return li[-2]\n",
    "li=[1,19,6,2,8,18,3]\n",
    "secondLarge(li)"
   ]
  },
  {
   "cell_type": "code",
   "execution_count": 13,
   "metadata": {},
   "outputs": [
    {
     "name": "stdout",
     "output_type": "stream",
     "text": [
      "1 9 19 22 "
     ]
    }
   ],
   "source": [
    "# Function\n",
    "# Input : List\n",
    "# Output : Formatted Output\n",
    "# test cases:\n",
    "#[1,6,9,4,16,19,22] -- 1 9 19 22\n",
    "def linearSearch6(li):\n",
    "    # Implement the logic\n",
    "    for x in range(len(li)):\n",
    "        if x==0 or x==len(li) -1:\n",
    "             print(li[x],end=\" \")\n",
    "        elif li[x-1] % 2 == 0 and li[x+1] % 2 == 0:\n",
    "            print(li[x],end = \" \")\n",
    "    return\n",
    "li=[1,6,9,4,16,19,22]\n",
    "linearSearch6(li)"
   ]
  },
  {
   "cell_type": "code",
   "execution_count": 21,
   "metadata": {},
   "outputs": [
    {
     "data": {
      "text/plain": [
       "[1, 4, 5, 6, 9]"
      ]
     },
     "execution_count": 21,
     "metadata": {},
     "output_type": "execute_result"
    }
   ],
   "source": [
    "def numberlistconversion(n):\n",
    "    li= []\n",
    "    while n!= 0:\n",
    "        r= n%10\n",
    "        li.append(r)\n",
    "        n= n//10\n",
    "    li.reverse()\n",
    "    return li\n",
    "numberlistconversion(14569) # [1,4,5,6,9]"
   ]
  },
  {
   "cell_type": "code",
   "execution_count": 15,
   "metadata": {},
   "outputs": [],
   "source": [
    "# Function to count the occurances of a character in a string\n",
    "# \"python programming\" , p -> 2\n",
    "# \"python programming\" , m -> 2 \n",
    "\n"
   ]
  },
  {
   "cell_type": "code",
   "execution_count": null,
   "metadata": {},
   "outputs": [],
   "source": [
    "# Function to represent the bubble sort\n",
    "def bubbleSort(li):\n",
    "    for i in range(len(li)-1):\n",
    "        for j in range (len(li)-1):\n",
    "            if li[j] > li [j+1]:\n",
    "                li[j] , li[j+1] = li[j+1], li[j]\n",
    "    return li\n",
    "li=[19,1,25,6,18,3]"
   ]
  }
 ],
 "metadata": {
  "kernelspec": {
   "display_name": "Python 3",
   "language": "python",
   "name": "python3"
  },
  "language_info": {
   "codemirror_mode": {
    "name": "ipython",
    "version": 3
   },
   "file_extension": ".py",
   "mimetype": "text/x-python",
   "name": "python",
   "nbconvert_exporter": "python",
   "pygments_lexer": "ipython3",
   "version": "3.7.3"
  }
 },
 "nbformat": 4,
 "nbformat_minor": 2
}

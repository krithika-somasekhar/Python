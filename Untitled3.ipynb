{
 "cells": [
  {
   "cell_type": "markdown",
   "metadata": {},
   "source": [
    "## Data Structures"
   ]
  },
  {
   "cell_type": "code",
   "execution_count": null,
   "metadata": {},
   "outputs": [],
   "source": []
  },
  {
   "cell_type": "code",
   "execution_count": null,
   "metadata": {},
   "outputs": [],
   "source": []
  },
  {
   "cell_type": "markdown",
   "metadata": {},
   "source": [
    "- Dictionaries\n"
   ]
  },
  {
   "cell_type": "markdown",
   "metadata": {},
   "source": [
    "### dictionaries\n",
    "- It works on the concept of set unique data\n",
    "- Keys, values is the unique identifier for a value\n",
    "- Each key is separated from its value with the colon symbol(:)\n",
    "- Each key and value is separated by comma(,)\n",
    "- Dictionaries are enclosed with curly brace ({})"
   ]
  },
  {
   "cell_type": "code",
   "execution_count": 3,
   "metadata": {},
   "outputs": [
    {
     "name": "stdout",
     "output_type": "stream",
     "text": [
      "{'name': 'gitam', 'emailid': 'gitam@gmail.com', 'address': 'hyderabad'}\n"
     ]
    }
   ],
   "source": [
    "d1 = {\"name\":\"gitam\",\"emailid\":\"gitam@gmail.com\",\"address\":\"hyderabad\"}\n",
    "print(d1)"
   ]
  },
  {
   "cell_type": "code",
   "execution_count": 4,
   "metadata": {},
   "outputs": [
    {
     "data": {
      "text/plain": [
       "'gitam'"
      ]
     },
     "execution_count": 4,
     "metadata": {},
     "output_type": "execute_result"
    }
   ],
   "source": [
    "d1[\"name\"]"
   ]
  },
  {
   "cell_type": "code",
   "execution_count": 6,
   "metadata": {},
   "outputs": [],
   "source": [
    "d1['emailid'] = 'gitam-python@gmail.com'"
   ]
  },
  {
   "cell_type": "code",
   "execution_count": 8,
   "metadata": {},
   "outputs": [
    {
     "data": {
      "text/plain": [
       "'gitam-python@gmail.com'"
      ]
     },
     "execution_count": 8,
     "metadata": {},
     "output_type": "execute_result"
    }
   ],
   "source": [
    "d1['emailid']"
   ]
  },
  {
   "cell_type": "markdown",
   "metadata": {},
   "source": [
    "### Tuples\n",
    "- t1 paranthesis() li square brackets[]\n",
    "- Difference between list and tuples\n",
    "- lists are multiple - can be changed/modified\n",
    "       - Used to access, modify, add, delete data\n",
    "- Tuples are immutable - cannot be changed\n",
    "- Used to access the data only"
   ]
  },
  {
   "cell_type": "code",
   "execution_count": 9,
   "metadata": {},
   "outputs": [],
   "source": [
    "t1 = (1,2,3,4,5,6)"
   ]
  },
  {
   "cell_type": "markdown",
   "metadata": {},
   "source": [
    "## Contact Application\n",
    "- Add contact\n",
    "- Search the contact\n",
    "- List all contacts\n",
    "       - name1 : phone1\n",
    "       - name2 : phone2\n",
    "- modify the contact\n",
    "- remove the contact\n",
    "- Import the contact"
   ]
  },
  {
   "cell_type": "code",
   "execution_count": 17,
   "metadata": {},
   "outputs": [
    {
     "name": "stdout",
     "output_type": "stream",
     "text": [
      "contact details are added\n",
      "contact details are added\n",
      "contact details are already existing\n"
     ]
    }
   ],
   "source": [
    "# add contact\n",
    "contacts = {} # creating a dictionary object\n",
    "def addcontact(name,phone):\n",
    "    if name not in contacts:\n",
    "        contacts[name] = phone\n",
    "        print(\"contact details are added\")\n",
    "    else:\n",
    "        print(\"contact details are already existing\")\n",
    "    return\n",
    "addcontact('anil','9856475823')\n",
    "addcontact('naveen','7854216396')\n",
    "addcontact('anil','9856475823')"
   ]
  },
  {
   "cell_type": "code",
   "execution_count": 19,
   "metadata": {},
   "outputs": [
    {
     "name": "stdout",
     "output_type": "stream",
     "text": [
      "Anil doesnt exist\n",
      "Harsha doesnt exist\n",
      "naveen : 7854216396\n"
     ]
    }
   ],
   "source": [
    "# Search for contact details\n",
    "def searchcontact(name):\n",
    "    if name in contacts:\n",
    "        print(name,\":\" ,contacts[name])\n",
    "    else:\n",
    "        print(\"%s doesnt exist\" % name)\n",
    "    return\n",
    "searchcontact('Anil')\n",
    "searchcontact('Harsha')\n",
    "searchcontact('naveen')"
   ]
  },
  {
   "cell_type": "code",
   "execution_count": 26,
   "metadata": {},
   "outputs": [
    {
     "name": "stdout",
     "output_type": "stream",
     "text": [
      "2 contacts added successfully\n"
     ]
    }
   ],
   "source": [
    "# Import some contacts\n",
    "# Merge the contact with existing one\n",
    "def importcontact(newcontacts):\n",
    "    contacts.update(newcontacts)\n",
    "    print(len(newcontacts.keys()),\"contacts added successfully\")\n",
    "    return\n",
    "newcontacts={'Dinesh': 9562587456, 'Ajay':81454546565}\n",
    "importcontact(newcontacts)\n"
   ]
  },
  {
   "cell_type": "code",
   "execution_count": 27,
   "metadata": {},
   "outputs": [
    {
     "name": "stdout",
     "output_type": "stream",
     "text": [
      "Ajay deleted successfully\n"
     ]
    }
   ],
   "source": [
    "# Delete a contact\n",
    "def deletecontact(name):\n",
    "    if name in contacts:\n",
    "        del contacts[name]\n",
    "        print(name,\"deleted successfully\")\n",
    "    else:\n",
    "        print(name,\"not exists\")\n",
    "    return\n",
    "deletecontact('Ajay')"
   ]
  },
  {
   "cell_type": "code",
   "execution_count": 29,
   "metadata": {},
   "outputs": [
    {
     "name": "stdout",
     "output_type": "stream",
     "text": [
      "anil updated successfully\n",
      "ajay not exists\n"
     ]
    }
   ],
   "source": [
    "# Update the contact details\n",
    "def deletecontact(name,phone):\n",
    "    if name in contacts:\n",
    "        contacts[name] = phone\n",
    "        print(name,\"updated successfully\")\n",
    "    else:\n",
    "        print(name,\"not exists\")\n",
    "    return\n",
    "deletecontact('anil', 8547574545)\n",
    "deletecontact('ajay', 9858545452)"
   ]
  },
  {
   "cell_type": "code",
   "execution_count": 30,
   "metadata": {},
   "outputs": [
    {
     "name": "stdout",
     "output_type": "stream",
     "text": [
      "3 2 1 1 0 "
     ]
    }
   ],
   "source": [
    "# Program to print Fibonacci \n",
    "# series in reverse order \n",
    "  \n",
    "def reverseFibonacci(n): \n",
    "   \n",
    "                        \n",
    "  \n",
    "    # assigning first and second elements \n",
    "    a[0] = 0 \n",
    "    a[1] = 1 \n",
    "  \n",
    "    for i in range(2, n):   \n",
    "  \n",
    "        # storing sum in the \n",
    "        # preceding location \n",
    "        a[i] = a[i - 2] + a[i - 1]  \n",
    "       \n",
    "  \n",
    "    for i in range(n - 1, -1 , -1):   \n",
    "  \n",
    "        # printing array in \n",
    "        # reverse order \n",
    "        print(a[i],end=\" \")  \n",
    "       \n",
    "   \n",
    "  \n",
    "# Driver function \n",
    "n = 5 \n",
    "reverseFibonacci(n)  "
   ]
  },
  {
   "cell_type": "code",
   "execution_count": null,
   "metadata": {},
   "outputs": [],
   "source": [
    "# find nth term of  \n",
    "# Arithmetic progression \n",
    "  \n",
    "def Nth_of_AP(a, d, N) : \n",
    "  \n",
    "    # using formula to find the  \n",
    "    # Nth term t(n) = a(1) + (n-1)*d \n",
    "    return (a + (N - 1) * d) \n",
    "       \n",
    "   \n",
    "# Driver code \n",
    "a = 2  # starting number \n",
    "d = 1  # Common difference \n",
    "N = 5  # N th term to be find \n",
    "   \n",
    "# Display the output \n",
    "print( \"The \", N ,\"th term of the series is : \", \n",
    "       Nth_of_AP(a, d, N)) "
   ]
  },
  {
   "cell_type": "code",
   "execution_count": null,
   "metadata": {},
   "outputs": [],
   "source": [
    "def search(tuple,n):\n",
    "    for i in range(len(tuple)):\n",
    "        if tuple[i] == n:\n",
    "            return True \n",
    "        return False\n",
    "tuple = (1,2,'s')"
   ]
  },
  {
   "cell_type": "code",
   "execution_count": 1,
   "metadata": {},
   "outputs": [
    {
     "name": "stdout",
     "output_type": "stream",
     "text": [
      "0\n",
      "1\n",
      "2\n",
      "0\n"
     ]
    }
   ],
   "source": [
    "i = 0\n",
    "while i<3:\n",
    "    print(i)\n",
    "    i +=1\n",
    "else:\n",
    "    print(0)"
   ]
  },
  {
   "cell_type": "markdown",
   "metadata": {},
   "source": [
    "## Packages and modules\n",
    "### Packages\n",
    "\n",
    "* A collection of modules(single python file - py) and subpackages\n",
    "\n",
    "### Module\n",
    "* A single python file containing set functions\n",
    "** packages --> subpackages --> modules --> functions --> statements**"
   ]
  },
  {
   "cell_type": "code",
   "execution_count": 7,
   "metadata": {},
   "outputs": [
    {
     "data": {
      "text/plain": [
       "123"
      ]
     },
     "execution_count": 7,
     "metadata": {},
     "output_type": "execute_result"
    }
   ],
   "source": [
    "# import the externals packages to python file\n",
    "import math \n",
    "math.floor(123.45)a"
   ]
  },
  {
   "cell_type": "code",
   "execution_count": 8,
   "metadata": {},
   "outputs": [
    {
     "data": {
      "text/plain": [
       "120"
      ]
     },
     "execution_count": 8,
     "metadata": {},
     "output_type": "execute_result"
    }
   ],
   "source": [
    "from math import factorial as fact\n",
    "fact(5)"
   ]
  }
 ],
 "metadata": {
  "kernelspec": {
   "display_name": "Python 3",
   "language": "python",
   "name": "python3"
  },
  "language_info": {
   "codemirror_mode": {
    "name": "ipython",
    "version": 3
   },
   "file_extension": ".py",
   "mimetype": "text/x-python",
   "name": "python",
   "nbconvert_exporter": "python",
   "pygments_lexer": "ipython3",
   "version": "3.7.3"
  }
 },
 "nbformat": 4,
 "nbformat_minor": 2
}

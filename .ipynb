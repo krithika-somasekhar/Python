{
 "cells": [
  {
   "cell_type": "markdown",
   "metadata": {},
   "source": [
    "# Markdown Basics\n",
    "## Markdown Basics\n",
    "### Markdown Basics\n",
    "#### Markdown Basics\n",
    "##### Markdown Basics\n",
    "\n",
    "* **point1**\n",
    "* *point2*\n",
    "* ***point3***\n",
    "\n",
    "* normal text\n",
    "* sublist 1\n",
    "* sublist 2\n",
    "\n",
    "> 1.point1\n",
    "> 2.point2\n",
    "\n",
    "* []option1\n",
    "* []option2\n",
    "\n",
    "* google site -- [1] http://www.google.com\n",
    "* msn site --[2] http://www.msn.com\n"
   ]
  },
  {
   "cell_type": "markdown",
   "metadata": {},
   "source": [
    "### Python Basics\n",
    "* Python version 3.7\n",
    "- Functional programming\n",
    "- Object oriented programming\n",
    "- Scripting Programming\n"
   ]
  },
  {
   "cell_type": "code",
   "execution_count": 1,
   "metadata": {},
   "outputs": [
    {
     "name": "stdout",
     "output_type": "stream",
     "text": [
      "Hello,Gitam\n"
     ]
    }
   ],
   "source": [
    " print(\"Hello,Gitam\")"
   ]
  },
  {
   "cell_type": "code",
   "execution_count": 2,
   "metadata": {},
   "outputs": [
    {
     "name": "stdout",
     "output_type": "stream",
     "text": [
      "Hello, Gitam\n",
      "Hyderabad\n"
     ]
    }
   ],
   "source": [
    "print(\"Hello, Gitam\")\n",
    "print(\"Hyderabad\")"
   ]
  },
  {
   "cell_type": "code",
   "execution_count": 3,
   "metadata": {},
   "outputs": [
    {
     "name": "stdout",
     "output_type": "stream",
     "text": [
      "Hello, Gitam ||| Hyderabad |||Python programming\n"
     ]
    }
   ],
   "source": [
    "print(\"Hello, Gitam\" , \"|||\" , end=\" \")\n",
    "print(\"Hyderabad\" , \"|||\" ,end=\"\")\n",
    "print(\"Python programming\")"
   ]
  },
  {
   "cell_type": "code",
   "execution_count": 4,
   "metadata": {},
   "outputs": [
    {
     "name": "stdout",
     "output_type": "stream",
     "text": [
      "100\n",
      "20 20 20\n",
      "111 222 333\n"
     ]
    }
   ],
   "source": [
    "n1=100 # single variable assignment\n",
    "a=b=c=20 # multi variable assignment of the same value\n",
    "a1,b1,c1=111,222,333 # multi variable assignment with different value\n",
    "print(n1)\n",
    "print(a,b,c)\n",
    "print(a1,b1,c1)\n"
   ]
  },
  {
   "cell_type": "markdown",
   "metadata": {},
   "source": [
    "### Datatypes And Conversions\n",
    "* int\n",
    "* float\n",
    "* string"
   ]
  },
  {
   "cell_type": "code",
   "execution_count": 5,
   "metadata": {},
   "outputs": [
    {
     "name": "stdout",
     "output_type": "stream",
     "text": [
      "100 python p 10.2\n",
      "<class 'int'> <class 'str'> <class 'str'> <class 'float'>\n"
     ]
    }
   ],
   "source": [
    "a=100\n",
    "s1=\"python\"\n",
    "s2=\"p\"\n",
    "f1=10.2\n",
    "print(a,s1,s2,f1)\n",
    "print(type(a), type(s1) , type(s2), type(f1))"
   ]
  }
 ],
 "metadata": {
  "kernelspec": {
   "display_name": "Python 3",
   "language": "python",
   "name": "python3"
  },
  "language_info": {
   "codemirror_mode": {
    "name": "ipython",
    "version": 3
   },
   "file_extension": ".py",
   "mimetype": "text/x-python",
   "name": "python",
   "nbconvert_exporter": "python",
   "pygments_lexer": "ipython3",
   "version": "3.7.3"
  }
 },
 "nbformat": 4,
 "nbformat_minor": 2
}
